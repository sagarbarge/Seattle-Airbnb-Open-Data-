{
 "cells": [
  {
   "cell_type": "markdown",
   "id": "dac47a59",
   "metadata": {},
   "source": [
    "# Seattle Airbnb Open Data - SQL Project"
   ]
  },
  {
   "cell_type": "markdown",
   "id": "7a9aff5b",
   "metadata": {},
   "source": [
    "#### About Dataset\n",
    "Context\n",
    "\n",
    "\n",
    "Since 2008, guests and hosts have used Airbnb to travel in a more unique, personalized way. As part of the Airbnb Inside initiative, this dataset describes the listing activity of homestays in Seattle, WA.\n",
    "\n",
    "Content\n",
    "The following Airbnb activity is included in this Seattle dataset:\n",
    "\n",
    "Listings, including full descriptions and average review score\n",
    "Reviews, including unique id for each reviewer and detailed comments\n",
    "Calendar, including listing id and the price and availability for that day\n",
    "Inspiration\n",
    "\n",
    "Can you describe the vibe of each Seattle neighborhood using listing descriptions?\n",
    "What are the busiest times of the year to visit Seattle? By how much do prices spike?\n",
    "Is there a general upward trend of both new Airbnb listings and total Airbnb visitors to Seattle?"
   ]
  },
  {
   "cell_type": "markdown",
   "id": "110c5f16",
   "metadata": {},
   "source": [
    "Referance: https://www.kaggle.com/datasets/swsw1717/seatle-airbnb-open-data-sql-project/data?select=calendar.csv"
   ]
  },
  {
   "cell_type": "markdown",
   "id": "127ec3a0",
   "metadata": {},
   "source": [
    "#### Import Liabrary"
   ]
  },
  {
   "cell_type": "code",
   "execution_count": 1,
   "id": "a76d49ca",
   "metadata": {},
   "outputs": [],
   "source": [
    "import numpy as np\n",
    "import pandas as pd\n",
    "import matplotlib.pyplot as plt\n",
    "import seaborn as sns\n",
    "import sqlite3 as sql\n",
    "import warnings\n",
    "warnings.filterwarnings('ignore')"
   ]
  },
  {
   "cell_type": "code",
   "execution_count": 2,
   "id": "b26cc86e",
   "metadata": {},
   "outputs": [],
   "source": [
    "# Load the CSV file into a Pandas DataFrame\n",
    "df_cal = pd.read_csv('calendar.csv')\n",
    "df_lis = pd.read_csv('listings.csv')\n",
    "df_rev = pd.read_csv('reviews.csv')"
   ]
  },
  {
   "cell_type": "code",
   "execution_count": 3,
   "id": "379e7b15",
   "metadata": {},
   "outputs": [
    {
     "data": {
      "text/html": [
       "<div>\n",
       "<style scoped>\n",
       "    .dataframe tbody tr th:only-of-type {\n",
       "        vertical-align: middle;\n",
       "    }\n",
       "\n",
       "    .dataframe tbody tr th {\n",
       "        vertical-align: top;\n",
       "    }\n",
       "\n",
       "    .dataframe thead th {\n",
       "        text-align: right;\n",
       "    }\n",
       "</style>\n",
       "<table border=\"1\" class=\"dataframe\">\n",
       "  <thead>\n",
       "    <tr style=\"text-align: right;\">\n",
       "      <th></th>\n",
       "      <th>listing_id</th>\n",
       "      <th>date</th>\n",
       "      <th>available</th>\n",
       "      <th>price</th>\n",
       "      <th>adjusted_price</th>\n",
       "      <th>minimum_nights</th>\n",
       "      <th>maximum_nights</th>\n",
       "    </tr>\n",
       "  </thead>\n",
       "  <tbody>\n",
       "    <tr>\n",
       "      <th>0</th>\n",
       "      <td>6606</td>\n",
       "      <td>2024-06-24</td>\n",
       "      <td>f</td>\n",
       "      <td>$90.00</td>\n",
       "      <td>NaN</td>\n",
       "      <td>30.0</td>\n",
       "      <td>1125.0</td>\n",
       "    </tr>\n",
       "    <tr>\n",
       "      <th>1</th>\n",
       "      <td>6606</td>\n",
       "      <td>2024-06-25</td>\n",
       "      <td>f</td>\n",
       "      <td>$90.00</td>\n",
       "      <td>NaN</td>\n",
       "      <td>30.0</td>\n",
       "      <td>1125.0</td>\n",
       "    </tr>\n",
       "    <tr>\n",
       "      <th>2</th>\n",
       "      <td>6606</td>\n",
       "      <td>2024-06-26</td>\n",
       "      <td>f</td>\n",
       "      <td>$90.00</td>\n",
       "      <td>NaN</td>\n",
       "      <td>30.0</td>\n",
       "      <td>1125.0</td>\n",
       "    </tr>\n",
       "  </tbody>\n",
       "</table>\n",
       "</div>"
      ],
      "text/plain": [
       "   listing_id        date available   price  adjusted_price  minimum_nights  \\\n",
       "0        6606  2024-06-24         f  $90.00             NaN            30.0   \n",
       "1        6606  2024-06-25         f  $90.00             NaN            30.0   \n",
       "2        6606  2024-06-26         f  $90.00             NaN            30.0   \n",
       "\n",
       "   maximum_nights  \n",
       "0          1125.0  \n",
       "1          1125.0  \n",
       "2          1125.0  "
      ]
     },
     "execution_count": 3,
     "metadata": {},
     "output_type": "execute_result"
    }
   ],
   "source": [
    "df_cal.head(3)"
   ]
  },
  {
   "cell_type": "code",
   "execution_count": 4,
   "id": "b44d0dc8",
   "metadata": {},
   "outputs": [
    {
     "data": {
      "text/html": [
       "<div>\n",
       "<style scoped>\n",
       "    .dataframe tbody tr th:only-of-type {\n",
       "        vertical-align: middle;\n",
       "    }\n",
       "\n",
       "    .dataframe tbody tr th {\n",
       "        vertical-align: top;\n",
       "    }\n",
       "\n",
       "    .dataframe thead th {\n",
       "        text-align: right;\n",
       "    }\n",
       "</style>\n",
       "<table border=\"1\" class=\"dataframe\">\n",
       "  <thead>\n",
       "    <tr style=\"text-align: right;\">\n",
       "      <th></th>\n",
       "      <th>id</th>\n",
       "      <th>name</th>\n",
       "      <th>host_id</th>\n",
       "      <th>host_name</th>\n",
       "      <th>neighbourhood_group</th>\n",
       "      <th>neighbourhood</th>\n",
       "      <th>latitude</th>\n",
       "      <th>longitude</th>\n",
       "      <th>room_type</th>\n",
       "      <th>price</th>\n",
       "      <th>minimum_nights</th>\n",
       "      <th>number_of_reviews</th>\n",
       "      <th>last_review</th>\n",
       "      <th>reviews_per_month</th>\n",
       "      <th>calculated_host_listings_count</th>\n",
       "      <th>availability_365</th>\n",
       "      <th>number_of_reviews_ltm</th>\n",
       "      <th>license</th>\n",
       "    </tr>\n",
       "  </thead>\n",
       "  <tbody>\n",
       "    <tr>\n",
       "      <th>0</th>\n",
       "      <td>6606</td>\n",
       "      <td>Fab, private seattle urban cottage!</td>\n",
       "      <td>14942</td>\n",
       "      <td>Joyce</td>\n",
       "      <td>Other neighborhoods</td>\n",
       "      <td>Wallingford</td>\n",
       "      <td>47.65444</td>\n",
       "      <td>-122.33629</td>\n",
       "      <td>Entire home/apt</td>\n",
       "      <td>99.0</td>\n",
       "      <td>30</td>\n",
       "      <td>160</td>\n",
       "      <td>2023-08-05</td>\n",
       "      <td>0.88</td>\n",
       "      <td>2</td>\n",
       "      <td>147</td>\n",
       "      <td>1</td>\n",
       "      <td>str-opli-19-002622</td>\n",
       "    </tr>\n",
       "    <tr>\n",
       "      <th>1</th>\n",
       "      <td>9419</td>\n",
       "      <td>Glorious sun room w/ memory foambed</td>\n",
       "      <td>30559</td>\n",
       "      <td>Angielena</td>\n",
       "      <td>Other neighborhoods</td>\n",
       "      <td>Georgetown</td>\n",
       "      <td>47.55017</td>\n",
       "      <td>-122.31937</td>\n",
       "      <td>Private room</td>\n",
       "      <td>76.0</td>\n",
       "      <td>2</td>\n",
       "      <td>196</td>\n",
       "      <td>2024-06-09</td>\n",
       "      <td>1.16</td>\n",
       "      <td>10</td>\n",
       "      <td>337</td>\n",
       "      <td>15</td>\n",
       "      <td>Exempt</td>\n",
       "    </tr>\n",
       "    <tr>\n",
       "      <th>2</th>\n",
       "      <td>9531</td>\n",
       "      <td>The Adorable Sweet Orange Craftsman</td>\n",
       "      <td>31481</td>\n",
       "      <td>Cassie</td>\n",
       "      <td>West Seattle</td>\n",
       "      <td>Fairmount Park</td>\n",
       "      <td>47.55495</td>\n",
       "      <td>-122.38663</td>\n",
       "      <td>Entire home/apt</td>\n",
       "      <td>189.0</td>\n",
       "      <td>3</td>\n",
       "      <td>97</td>\n",
       "      <td>2024-06-16</td>\n",
       "      <td>0.64</td>\n",
       "      <td>2</td>\n",
       "      <td>133</td>\n",
       "      <td>23</td>\n",
       "      <td>STR-OPLI-19-002182</td>\n",
       "    </tr>\n",
       "  </tbody>\n",
       "</table>\n",
       "</div>"
      ],
      "text/plain": [
       "     id                                 name  host_id  host_name  \\\n",
       "0  6606  Fab, private seattle urban cottage!    14942      Joyce   \n",
       "1  9419  Glorious sun room w/ memory foambed    30559  Angielena   \n",
       "2  9531  The Adorable Sweet Orange Craftsman    31481     Cassie   \n",
       "\n",
       "   neighbourhood_group   neighbourhood  latitude  longitude        room_type  \\\n",
       "0  Other neighborhoods     Wallingford  47.65444 -122.33629  Entire home/apt   \n",
       "1  Other neighborhoods      Georgetown  47.55017 -122.31937     Private room   \n",
       "2         West Seattle  Fairmount Park  47.55495 -122.38663  Entire home/apt   \n",
       "\n",
       "   price  minimum_nights  number_of_reviews last_review  reviews_per_month  \\\n",
       "0   99.0              30                160  2023-08-05               0.88   \n",
       "1   76.0               2                196  2024-06-09               1.16   \n",
       "2  189.0               3                 97  2024-06-16               0.64   \n",
       "\n",
       "   calculated_host_listings_count  availability_365  number_of_reviews_ltm  \\\n",
       "0                               2               147                      1   \n",
       "1                              10               337                     15   \n",
       "2                               2               133                     23   \n",
       "\n",
       "              license  \n",
       "0  str-opli-19-002622  \n",
       "1              Exempt  \n",
       "2  STR-OPLI-19-002182  "
      ]
     },
     "execution_count": 4,
     "metadata": {},
     "output_type": "execute_result"
    }
   ],
   "source": [
    "df_lis.head(3)"
   ]
  },
  {
   "cell_type": "code",
   "execution_count": 5,
   "id": "11d152fe",
   "metadata": {},
   "outputs": [
    {
     "data": {
      "text/html": [
       "<div>\n",
       "<style scoped>\n",
       "    .dataframe tbody tr th:only-of-type {\n",
       "        vertical-align: middle;\n",
       "    }\n",
       "\n",
       "    .dataframe tbody tr th {\n",
       "        vertical-align: top;\n",
       "    }\n",
       "\n",
       "    .dataframe thead th {\n",
       "        text-align: right;\n",
       "    }\n",
       "</style>\n",
       "<table border=\"1\" class=\"dataframe\">\n",
       "  <thead>\n",
       "    <tr style=\"text-align: right;\">\n",
       "      <th></th>\n",
       "      <th>listing_id</th>\n",
       "      <th>id</th>\n",
       "      <th>date</th>\n",
       "      <th>reviewer_id</th>\n",
       "      <th>reviewer_name</th>\n",
       "      <th>comments</th>\n",
       "    </tr>\n",
       "  </thead>\n",
       "  <tbody>\n",
       "    <tr>\n",
       "      <th>0</th>\n",
       "      <td>6606</td>\n",
       "      <td>5664</td>\n",
       "      <td>2009-07-17</td>\n",
       "      <td>18085</td>\n",
       "      <td>Vivian</td>\n",
       "      <td>The Urban Cottage is comfortable, beautiful, f...</td>\n",
       "    </tr>\n",
       "    <tr>\n",
       "      <th>1</th>\n",
       "      <td>6606</td>\n",
       "      <td>338761</td>\n",
       "      <td>2011-06-27</td>\n",
       "      <td>434031</td>\n",
       "      <td>Elliott</td>\n",
       "      <td>Joyce was a wonderful host and the urban cotta...</td>\n",
       "    </tr>\n",
       "    <tr>\n",
       "      <th>2</th>\n",
       "      <td>6606</td>\n",
       "      <td>467904</td>\n",
       "      <td>2011-08-22</td>\n",
       "      <td>976182</td>\n",
       "      <td>Allegra</td>\n",
       "      <td>Beautiful cottage and warm hospitality from Jo...</td>\n",
       "    </tr>\n",
       "    <tr>\n",
       "      <th>3</th>\n",
       "      <td>6606</td>\n",
       "      <td>480017</td>\n",
       "      <td>2011-08-27</td>\n",
       "      <td>997921</td>\n",
       "      <td>Brittney</td>\n",
       "      <td>Joyce is a wonderful host! She is warm, helpfu...</td>\n",
       "    </tr>\n",
       "    <tr>\n",
       "      <th>4</th>\n",
       "      <td>6606</td>\n",
       "      <td>487278</td>\n",
       "      <td>2011-08-30</td>\n",
       "      <td>206901</td>\n",
       "      <td>Pascal</td>\n",
       "      <td>Joyce's cottage is the perfect Seattle locatio...</td>\n",
       "    </tr>\n",
       "  </tbody>\n",
       "</table>\n",
       "</div>"
      ],
      "text/plain": [
       "   listing_id      id        date  reviewer_id reviewer_name  \\\n",
       "0        6606    5664  2009-07-17        18085        Vivian   \n",
       "1        6606  338761  2011-06-27       434031       Elliott   \n",
       "2        6606  467904  2011-08-22       976182       Allegra   \n",
       "3        6606  480017  2011-08-27       997921      Brittney   \n",
       "4        6606  487278  2011-08-30       206901        Pascal   \n",
       "\n",
       "                                            comments  \n",
       "0  The Urban Cottage is comfortable, beautiful, f...  \n",
       "1  Joyce was a wonderful host and the urban cotta...  \n",
       "2  Beautiful cottage and warm hospitality from Jo...  \n",
       "3  Joyce is a wonderful host! She is warm, helpfu...  \n",
       "4  Joyce's cottage is the perfect Seattle locatio...  "
      ]
     },
     "execution_count": 5,
     "metadata": {},
     "output_type": "execute_result"
    }
   ],
   "source": [
    "df_rev.head()"
   ]
  },
  {
   "cell_type": "code",
   "execution_count": 6,
   "id": "18c02e29",
   "metadata": {},
   "outputs": [
    {
     "name": "stdout",
     "output_type": "stream",
     "text": [
      "df_cal: (2350878, 7)\n",
      "df_lis: (6442, 18)\n",
      "df_rev: (481350, 6)\n"
     ]
    }
   ],
   "source": [
    "print ('df_cal:', df_cal.shape)\n",
    "print ('df_lis:', df_lis.shape)\n",
    "print ('df_rev:' ,df_rev.shape)"
   ]
  },
  {
   "cell_type": "code",
   "execution_count": 7,
   "id": "76ef70fb",
   "metadata": {},
   "outputs": [
    {
     "name": "stdout",
     "output_type": "stream",
     "text": [
      "<class 'pandas.core.frame.DataFrame'>\n",
      "RangeIndex: 6442 entries, 0 to 6441\n",
      "Data columns (total 18 columns):\n",
      " #   Column                          Non-Null Count  Dtype  \n",
      "---  ------                          --------------  -----  \n",
      " 0   id                              6442 non-null   int64  \n",
      " 1   name                            6442 non-null   object \n",
      " 2   host_id                         6442 non-null   int64  \n",
      " 3   host_name                       6442 non-null   object \n",
      " 4   neighbourhood_group             6442 non-null   object \n",
      " 5   neighbourhood                   6442 non-null   object \n",
      " 6   latitude                        6442 non-null   float64\n",
      " 7   longitude                       6442 non-null   float64\n",
      " 8   room_type                       6442 non-null   object \n",
      " 9   price                           6011 non-null   float64\n",
      " 10  minimum_nights                  6442 non-null   int64  \n",
      " 11  number_of_reviews               6442 non-null   int64  \n",
      " 12  last_review                     5601 non-null   object \n",
      " 13  reviews_per_month               5601 non-null   float64\n",
      " 14  calculated_host_listings_count  6442 non-null   int64  \n",
      " 15  availability_365                6442 non-null   int64  \n",
      " 16  number_of_reviews_ltm           6442 non-null   int64  \n",
      " 17  license                         5312 non-null   object \n",
      "dtypes: float64(4), int64(7), object(7)\n",
      "memory usage: 906.0+ KB\n"
     ]
    }
   ],
   "source": [
    "# dataframe info\n",
    "df_lis.info()"
   ]
  },
  {
   "cell_type": "code",
   "execution_count": 8,
   "id": "d1d9ee21",
   "metadata": {},
   "outputs": [
    {
     "data": {
      "text/html": [
       "<div>\n",
       "<style scoped>\n",
       "    .dataframe tbody tr th:only-of-type {\n",
       "        vertical-align: middle;\n",
       "    }\n",
       "\n",
       "    .dataframe tbody tr th {\n",
       "        vertical-align: top;\n",
       "    }\n",
       "\n",
       "    .dataframe thead th {\n",
       "        text-align: right;\n",
       "    }\n",
       "</style>\n",
       "<table border=\"1\" class=\"dataframe\">\n",
       "  <thead>\n",
       "    <tr style=\"text-align: right;\">\n",
       "      <th></th>\n",
       "      <th>id</th>\n",
       "      <th>host_id</th>\n",
       "      <th>latitude</th>\n",
       "      <th>longitude</th>\n",
       "      <th>price</th>\n",
       "      <th>minimum_nights</th>\n",
       "      <th>number_of_reviews</th>\n",
       "      <th>reviews_per_month</th>\n",
       "      <th>calculated_host_listings_count</th>\n",
       "      <th>availability_365</th>\n",
       "      <th>number_of_reviews_ltm</th>\n",
       "    </tr>\n",
       "  </thead>\n",
       "  <tbody>\n",
       "    <tr>\n",
       "      <th>count</th>\n",
       "      <td>6.442000e+03</td>\n",
       "      <td>6.442000e+03</td>\n",
       "      <td>6442.000000</td>\n",
       "      <td>6442.000000</td>\n",
       "      <td>6011.000000</td>\n",
       "      <td>6442.000000</td>\n",
       "      <td>6442.000000</td>\n",
       "      <td>5601.000000</td>\n",
       "      <td>6442.000000</td>\n",
       "      <td>6442.000000</td>\n",
       "      <td>6442.000000</td>\n",
       "    </tr>\n",
       "    <tr>\n",
       "      <th>mean</th>\n",
       "      <td>4.778906e+17</td>\n",
       "      <td>1.561396e+08</td>\n",
       "      <td>47.626021</td>\n",
       "      <td>-122.334359</td>\n",
       "      <td>212.495092</td>\n",
       "      <td>11.127134</td>\n",
       "      <td>74.720584</td>\n",
       "      <td>2.264496</td>\n",
       "      <td>29.113319</td>\n",
       "      <td>183.257529</td>\n",
       "      <td>18.679913</td>\n",
       "    </tr>\n",
       "    <tr>\n",
       "      <th>std</th>\n",
       "      <td>4.635029e+17</td>\n",
       "      <td>1.730557e+08</td>\n",
       "      <td>0.048794</td>\n",
       "      <td>0.033425</td>\n",
       "      <td>222.397718</td>\n",
       "      <td>18.466967</td>\n",
       "      <td>114.938072</td>\n",
       "      <td>2.572886</td>\n",
       "      <td>77.237314</td>\n",
       "      <td>116.273916</td>\n",
       "      <td>22.792994</td>\n",
       "    </tr>\n",
       "    <tr>\n",
       "      <th>min</th>\n",
       "      <td>6.606000e+03</td>\n",
       "      <td>4.193000e+03</td>\n",
       "      <td>47.495874</td>\n",
       "      <td>-122.419040</td>\n",
       "      <td>10.000000</td>\n",
       "      <td>1.000000</td>\n",
       "      <td>0.000000</td>\n",
       "      <td>0.010000</td>\n",
       "      <td>1.000000</td>\n",
       "      <td>0.000000</td>\n",
       "      <td>0.000000</td>\n",
       "    </tr>\n",
       "    <tr>\n",
       "      <th>25%</th>\n",
       "      <td>3.418163e+07</td>\n",
       "      <td>1.987743e+07</td>\n",
       "      <td>47.601655</td>\n",
       "      <td>-122.357278</td>\n",
       "      <td>116.000000</td>\n",
       "      <td>2.000000</td>\n",
       "      <td>4.000000</td>\n",
       "      <td>0.670000</td>\n",
       "      <td>1.000000</td>\n",
       "      <td>81.000000</td>\n",
       "      <td>1.000000</td>\n",
       "    </tr>\n",
       "    <tr>\n",
       "      <th>50%</th>\n",
       "      <td>6.144249e+17</td>\n",
       "      <td>8.033375e+07</td>\n",
       "      <td>47.623220</td>\n",
       "      <td>-122.332260</td>\n",
       "      <td>167.000000</td>\n",
       "      <td>2.000000</td>\n",
       "      <td>29.000000</td>\n",
       "      <td>1.780000</td>\n",
       "      <td>2.000000</td>\n",
       "      <td>178.000000</td>\n",
       "      <td>10.000000</td>\n",
       "    </tr>\n",
       "    <tr>\n",
       "      <th>75%</th>\n",
       "      <td>9.319134e+17</td>\n",
       "      <td>2.552755e+08</td>\n",
       "      <td>47.663776</td>\n",
       "      <td>-122.310931</td>\n",
       "      <td>250.000000</td>\n",
       "      <td>30.000000</td>\n",
       "      <td>97.000000</td>\n",
       "      <td>3.320000</td>\n",
       "      <td>11.000000</td>\n",
       "      <td>295.000000</td>\n",
       "      <td>30.000000</td>\n",
       "    </tr>\n",
       "    <tr>\n",
       "      <th>max</th>\n",
       "      <td>1.185488e+18</td>\n",
       "      <td>5.848754e+08</td>\n",
       "      <td>47.734087</td>\n",
       "      <td>-122.240870</td>\n",
       "      <td>9000.000000</td>\n",
       "      <td>365.000000</td>\n",
       "      <td>1404.000000</td>\n",
       "      <td>101.200000</td>\n",
       "      <td>340.000000</td>\n",
       "      <td>365.000000</td>\n",
       "      <td>280.000000</td>\n",
       "    </tr>\n",
       "  </tbody>\n",
       "</table>\n",
       "</div>"
      ],
      "text/plain": [
       "                 id       host_id     latitude    longitude        price  \\\n",
       "count  6.442000e+03  6.442000e+03  6442.000000  6442.000000  6011.000000   \n",
       "mean   4.778906e+17  1.561396e+08    47.626021  -122.334359   212.495092   \n",
       "std    4.635029e+17  1.730557e+08     0.048794     0.033425   222.397718   \n",
       "min    6.606000e+03  4.193000e+03    47.495874  -122.419040    10.000000   \n",
       "25%    3.418163e+07  1.987743e+07    47.601655  -122.357278   116.000000   \n",
       "50%    6.144249e+17  8.033375e+07    47.623220  -122.332260   167.000000   \n",
       "75%    9.319134e+17  2.552755e+08    47.663776  -122.310931   250.000000   \n",
       "max    1.185488e+18  5.848754e+08    47.734087  -122.240870  9000.000000   \n",
       "\n",
       "       minimum_nights  number_of_reviews  reviews_per_month  \\\n",
       "count     6442.000000        6442.000000        5601.000000   \n",
       "mean        11.127134          74.720584           2.264496   \n",
       "std         18.466967         114.938072           2.572886   \n",
       "min          1.000000           0.000000           0.010000   \n",
       "25%          2.000000           4.000000           0.670000   \n",
       "50%          2.000000          29.000000           1.780000   \n",
       "75%         30.000000          97.000000           3.320000   \n",
       "max        365.000000        1404.000000         101.200000   \n",
       "\n",
       "       calculated_host_listings_count  availability_365  number_of_reviews_ltm  \n",
       "count                     6442.000000       6442.000000            6442.000000  \n",
       "mean                        29.113319        183.257529              18.679913  \n",
       "std                         77.237314        116.273916              22.792994  \n",
       "min                          1.000000          0.000000               0.000000  \n",
       "25%                          1.000000         81.000000               1.000000  \n",
       "50%                          2.000000        178.000000              10.000000  \n",
       "75%                         11.000000        295.000000              30.000000  \n",
       "max                        340.000000        365.000000             280.000000  "
      ]
     },
     "execution_count": 8,
     "metadata": {},
     "output_type": "execute_result"
    }
   ],
   "source": [
    "df_lis.describe()"
   ]
  },
  {
   "cell_type": "code",
   "execution_count": 9,
   "id": "1add1dbd",
   "metadata": {},
   "outputs": [
    {
     "data": {
      "text/plain": [
       "0"
      ]
     },
     "execution_count": 9,
     "metadata": {},
     "output_type": "execute_result"
    }
   ],
   "source": [
    "# Duplicated rows\n",
    "df_lis.duplicated().sum()"
   ]
  },
  {
   "cell_type": "code",
   "execution_count": 10,
   "id": "7cc44b47",
   "metadata": {},
   "outputs": [
    {
     "data": {
      "text/plain": [
       "id                                   0\n",
       "name                                 0\n",
       "host_id                              0\n",
       "host_name                            0\n",
       "neighbourhood_group                  0\n",
       "neighbourhood                        0\n",
       "latitude                             0\n",
       "longitude                            0\n",
       "room_type                            0\n",
       "price                              431\n",
       "minimum_nights                       0\n",
       "number_of_reviews                    0\n",
       "last_review                        841\n",
       "reviews_per_month                  841\n",
       "calculated_host_listings_count       0\n",
       "availability_365                     0\n",
       "number_of_reviews_ltm                0\n",
       "license                           1130\n",
       "dtype: int64"
      ]
     },
     "execution_count": 10,
     "metadata": {},
     "output_type": "execute_result"
    }
   ],
   "source": [
    "df_lis.isna().sum()"
   ]
  },
  {
   "cell_type": "code",
   "execution_count": 11,
   "id": "ed701ef5",
   "metadata": {},
   "outputs": [],
   "source": [
    "# Filling price\n",
    "df_lis['price'] = df_lis['price'].fillna(df_lis['price'].mean())"
   ]
  },
  {
   "cell_type": "code",
   "execution_count": 12,
   "id": "22257040",
   "metadata": {},
   "outputs": [
    {
     "data": {
      "text/plain": [
       "id                                   0\n",
       "name                                 0\n",
       "host_id                              0\n",
       "host_name                            0\n",
       "neighbourhood_group                  0\n",
       "neighbourhood                        0\n",
       "latitude                             0\n",
       "longitude                            0\n",
       "room_type                            0\n",
       "price                                0\n",
       "minimum_nights                       0\n",
       "number_of_reviews                    0\n",
       "last_review                        841\n",
       "reviews_per_month                  841\n",
       "calculated_host_listings_count       0\n",
       "availability_365                     0\n",
       "number_of_reviews_ltm                0\n",
       "license                           1130\n",
       "dtype: int64"
      ]
     },
     "execution_count": 12,
     "metadata": {},
     "output_type": "execute_result"
    }
   ],
   "source": [
    "df_lis.isna().sum()"
   ]
  },
  {
   "cell_type": "code",
   "execution_count": 13,
   "id": "bf4ee9a9",
   "metadata": {},
   "outputs": [
    {
     "data": {
      "text/html": [
       "<div>\n",
       "<style scoped>\n",
       "    .dataframe tbody tr th:only-of-type {\n",
       "        vertical-align: middle;\n",
       "    }\n",
       "\n",
       "    .dataframe tbody tr th {\n",
       "        vertical-align: top;\n",
       "    }\n",
       "\n",
       "    .dataframe thead th {\n",
       "        text-align: right;\n",
       "    }\n",
       "</style>\n",
       "<table border=\"1\" class=\"dataframe\">\n",
       "  <thead>\n",
       "    <tr style=\"text-align: right;\">\n",
       "      <th></th>\n",
       "      <th>id</th>\n",
       "      <th>name</th>\n",
       "      <th>host_id</th>\n",
       "      <th>host_name</th>\n",
       "      <th>neighbourhood_group</th>\n",
       "      <th>neighbourhood</th>\n",
       "      <th>latitude</th>\n",
       "      <th>longitude</th>\n",
       "      <th>room_type</th>\n",
       "      <th>price</th>\n",
       "      <th>minimum_nights</th>\n",
       "      <th>number_of_reviews</th>\n",
       "      <th>last_review</th>\n",
       "      <th>reviews_per_month</th>\n",
       "      <th>calculated_host_listings_count</th>\n",
       "      <th>availability_365</th>\n",
       "      <th>number_of_reviews_ltm</th>\n",
       "      <th>license</th>\n",
       "    </tr>\n",
       "  </thead>\n",
       "  <tbody>\n",
       "    <tr>\n",
       "      <th>20</th>\n",
       "      <td>340738</td>\n",
       "      <td>Victorian home on Capitol Hill</td>\n",
       "      <td>1729224</td>\n",
       "      <td>Marlow</td>\n",
       "      <td>Capitol Hill</td>\n",
       "      <td>Stevens</td>\n",
       "      <td>47.623760</td>\n",
       "      <td>-122.30494</td>\n",
       "      <td>Entire home/apt</td>\n",
       "      <td>495.0</td>\n",
       "      <td>100</td>\n",
       "      <td>0</td>\n",
       "      <td>NaN</td>\n",
       "      <td>NaN</td>\n",
       "      <td>4</td>\n",
       "      <td>167</td>\n",
       "      <td>0</td>\n",
       "      <td>NaN</td>\n",
       "    </tr>\n",
       "    <tr>\n",
       "      <th>272</th>\n",
       "      <td>4630355</td>\n",
       "      <td>Luxury Penthouse in Seattle</td>\n",
       "      <td>23167869</td>\n",
       "      <td>Bhuwan</td>\n",
       "      <td>Queen Anne</td>\n",
       "      <td>East Queen Anne</td>\n",
       "      <td>47.633527</td>\n",
       "      <td>-122.34748</td>\n",
       "      <td>Entire home/apt</td>\n",
       "      <td>125.0</td>\n",
       "      <td>30</td>\n",
       "      <td>0</td>\n",
       "      <td>NaN</td>\n",
       "      <td>NaN</td>\n",
       "      <td>1</td>\n",
       "      <td>58</td>\n",
       "      <td>0</td>\n",
       "      <td>NaN</td>\n",
       "    </tr>\n",
       "    <tr>\n",
       "      <th>541</th>\n",
       "      <td>10834487</td>\n",
       "      <td>Corner room</td>\n",
       "      <td>48441443</td>\n",
       "      <td>Savannah</td>\n",
       "      <td>Central Area</td>\n",
       "      <td>Minor</td>\n",
       "      <td>47.611790</td>\n",
       "      <td>-122.31350</td>\n",
       "      <td>Private room</td>\n",
       "      <td>90.0</td>\n",
       "      <td>30</td>\n",
       "      <td>0</td>\n",
       "      <td>NaN</td>\n",
       "      <td>NaN</td>\n",
       "      <td>5</td>\n",
       "      <td>317</td>\n",
       "      <td>0</td>\n",
       "      <td>NaN</td>\n",
       "    </tr>\n",
       "    <tr>\n",
       "      <th>554</th>\n",
       "      <td>11254431</td>\n",
       "      <td>Master suite in Ballard home</td>\n",
       "      <td>19984963</td>\n",
       "      <td>Sarah</td>\n",
       "      <td>Ballard</td>\n",
       "      <td>West Woodland</td>\n",
       "      <td>47.666690</td>\n",
       "      <td>-122.36630</td>\n",
       "      <td>Private room</td>\n",
       "      <td>140.0</td>\n",
       "      <td>365</td>\n",
       "      <td>0</td>\n",
       "      <td>NaN</td>\n",
       "      <td>NaN</td>\n",
       "      <td>1</td>\n",
       "      <td>365</td>\n",
       "      <td>0</td>\n",
       "      <td>NaN</td>\n",
       "    </tr>\n",
       "    <tr>\n",
       "      <th>638</th>\n",
       "      <td>13081598</td>\n",
       "      <td>Urban Classic Lake Union &amp; City center</td>\n",
       "      <td>1543665</td>\n",
       "      <td>Kaela</td>\n",
       "      <td>Queen Anne</td>\n",
       "      <td>East Queen Anne</td>\n",
       "      <td>47.631560</td>\n",
       "      <td>-122.34509</td>\n",
       "      <td>Entire home/apt</td>\n",
       "      <td>138.0</td>\n",
       "      <td>30</td>\n",
       "      <td>0</td>\n",
       "      <td>NaN</td>\n",
       "      <td>NaN</td>\n",
       "      <td>3</td>\n",
       "      <td>365</td>\n",
       "      <td>0</td>\n",
       "      <td>NaN</td>\n",
       "    </tr>\n",
       "  </tbody>\n",
       "</table>\n",
       "</div>"
      ],
      "text/plain": [
       "           id                                    name   host_id host_name  \\\n",
       "20     340738          Victorian home on Capitol Hill   1729224    Marlow   \n",
       "272   4630355             Luxury Penthouse in Seattle  23167869    Bhuwan   \n",
       "541  10834487                             Corner room  48441443  Savannah   \n",
       "554  11254431            Master suite in Ballard home  19984963     Sarah   \n",
       "638  13081598  Urban Classic Lake Union & City center   1543665     Kaela   \n",
       "\n",
       "    neighbourhood_group    neighbourhood   latitude  longitude  \\\n",
       "20         Capitol Hill          Stevens  47.623760 -122.30494   \n",
       "272          Queen Anne  East Queen Anne  47.633527 -122.34748   \n",
       "541        Central Area            Minor  47.611790 -122.31350   \n",
       "554             Ballard    West Woodland  47.666690 -122.36630   \n",
       "638          Queen Anne  East Queen Anne  47.631560 -122.34509   \n",
       "\n",
       "           room_type  price  minimum_nights  number_of_reviews last_review  \\\n",
       "20   Entire home/apt  495.0             100                  0         NaN   \n",
       "272  Entire home/apt  125.0              30                  0         NaN   \n",
       "541     Private room   90.0              30                  0         NaN   \n",
       "554     Private room  140.0             365                  0         NaN   \n",
       "638  Entire home/apt  138.0              30                  0         NaN   \n",
       "\n",
       "     reviews_per_month  calculated_host_listings_count  availability_365  \\\n",
       "20                 NaN                               4               167   \n",
       "272                NaN                               1                58   \n",
       "541                NaN                               5               317   \n",
       "554                NaN                               1               365   \n",
       "638                NaN                               3               365   \n",
       "\n",
       "     number_of_reviews_ltm license  \n",
       "20                       0     NaN  \n",
       "272                      0     NaN  \n",
       "541                      0     NaN  \n",
       "554                      0     NaN  \n",
       "638                      0     NaN  "
      ]
     },
     "execution_count": 13,
     "metadata": {},
     "output_type": "execute_result"
    }
   ],
   "source": [
    "# Checking null values and its relation to last_review, reviews_per_month\n",
    "df_nan = df_lis[df_lis['last_review'].isna()]\n",
    "df_nan.head()"
   ]
  },
  {
   "cell_type": "markdown",
   "id": "ea3d4f21",
   "metadata": {},
   "source": [
    "-  number_of_reviews is o, so last_review & reviews_per_month is null."
   ]
  },
  {
   "cell_type": "code",
   "execution_count": 14,
   "id": "7cd90377",
   "metadata": {},
   "outputs": [
    {
     "data": {
      "text/plain": [
       "0"
      ]
     },
     "execution_count": 14,
     "metadata": {},
     "output_type": "execute_result"
    }
   ],
   "source": [
    "# Filling null values by 0\n",
    "df_lis['last_review']= df_lis['last_review'].fillna(0)\n",
    "df_lis['reviews_per_month']= df_lis['reviews_per_month'].fillna(0)\n",
    "df_lis['last_review'].isna().sum()"
   ]
  },
  {
   "cell_type": "code",
   "execution_count": 15,
   "id": "d4b022ca",
   "metadata": {
    "scrolled": true
   },
   "outputs": [
    {
     "data": {
      "text/plain": [
       "id                                   0\n",
       "name                                 0\n",
       "host_id                              0\n",
       "host_name                            0\n",
       "neighbourhood_group                  0\n",
       "neighbourhood                        0\n",
       "latitude                             0\n",
       "longitude                            0\n",
       "room_type                            0\n",
       "price                                0\n",
       "minimum_nights                       0\n",
       "number_of_reviews                    0\n",
       "last_review                          0\n",
       "reviews_per_month                    0\n",
       "calculated_host_listings_count       0\n",
       "availability_365                     0\n",
       "number_of_reviews_ltm                0\n",
       "license                           1130\n",
       "dtype: int64"
      ]
     },
     "execution_count": 15,
     "metadata": {},
     "output_type": "execute_result"
    }
   ],
   "source": [
    "df_lis.isna().sum()"
   ]
  },
  {
   "cell_type": "code",
   "execution_count": 18,
   "id": "f41861aa",
   "metadata": {},
   "outputs": [
    {
     "data": {
      "text/plain": [
       "license\n",
       "Exempt                241\n",
       "STR-OPLI-19-002641     36\n",
       "STR-OPLI-22-000515     33\n",
       "STR-OPLI-19-002570     28\n",
       "STR-OPLI-20-000157     22\n",
       "                     ... \n",
       "STR-OPLI-20-001259      1\n",
       "STR-OPLI-21-000059      1\n",
       "STR-OPLI-22-001603      1\n",
       "STR-OPLI-22-000844      1\n",
       "STR-OPLI-23-001291      1\n",
       "Name: count, Length: 3630, dtype: int64"
      ]
     },
     "execution_count": 18,
     "metadata": {},
     "output_type": "execute_result"
    }
   ],
   "source": [
    "# Checking value count\n",
    "df_lis.license.value_counts()"
   ]
  },
  {
   "cell_type": "markdown",
   "id": "a2f3ca3a",
   "metadata": {},
   "source": [
    "- The license column does not seem to be very helpful. Putting aside the existing circumstances"
   ]
  },
  {
   "cell_type": "code",
   "execution_count": 21,
   "id": "52d945be",
   "metadata": {},
   "outputs": [
    {
     "data": {
      "text/plain": [
       "<Axes: xlabel='neighbourhood_group'>"
      ]
     },
     "execution_count": 21,
     "metadata": {},
     "output_type": "execute_result"
    },
    {
     "data": {
      "image/png": "[encoded data removed]",
      "text/plain": [
       "<Figure size 640x480 with 1 Axes>"
      ]
     },
     "metadata": {},
     "output_type": "display_data"
    }
   ],
   "source": [
    "# neighbourhood_group and count  \n",
    "\n",
    "df_lis.neighbourhood_group.value_counts().plot.bar()"
   ]
  },
  {
   "cell_type": "code",
   "execution_count": 31,
   "id": "475aee40",
   "metadata": {},
   "outputs": [],
   "source": [
    "df_nbr = df_lis.neighbourhood_group.value_counts().reset_index()"
   ]
  },
  {
   "cell_type": "code",
   "execution_count": 45,
   "id": "abe91a17",
   "metadata": {},
   "outputs": [
    {
     "data": {
      "text/html": [
       "<div>\n",
       "<style scoped>\n",
       "    .dataframe tbody tr th:only-of-type {\n",
       "        vertical-align: middle;\n",
       "    }\n",
       "\n",
       "    .dataframe tbody tr th {\n",
       "        vertical-align: top;\n",
       "    }\n",
       "\n",
       "    .dataframe thead th {\n",
       "        text-align: right;\n",
       "    }\n",
       "</style>\n",
       "<table border=\"1\" class=\"dataframe\">\n",
       "  <thead>\n",
       "    <tr style=\"text-align: right;\">\n",
       "      <th></th>\n",
       "      <th>neighbourhood_group</th>\n",
       "      <th>count</th>\n",
       "    </tr>\n",
       "  </thead>\n",
       "  <tbody>\n",
       "    <tr>\n",
       "      <th>0</th>\n",
       "      <td>Other neighborhoods</td>\n",
       "      <td>1249</td>\n",
       "    </tr>\n",
       "    <tr>\n",
       "      <th>1</th>\n",
       "      <td>Downtown</td>\n",
       "      <td>831</td>\n",
       "    </tr>\n",
       "    <tr>\n",
       "      <th>2</th>\n",
       "      <td>Central Area</td>\n",
       "      <td>605</td>\n",
       "    </tr>\n",
       "    <tr>\n",
       "      <th>3</th>\n",
       "      <td>Capitol Hill</td>\n",
       "      <td>581</td>\n",
       "    </tr>\n",
       "    <tr>\n",
       "      <th>4</th>\n",
       "      <td>Queen Anne</td>\n",
       "      <td>474</td>\n",
       "    </tr>\n",
       "  </tbody>\n",
       "</table>\n",
       "</div>"
      ],
      "text/plain": [
       "   neighbourhood_group  count\n",
       "0  Other neighborhoods   1249\n",
       "1             Downtown    831\n",
       "2         Central Area    605\n",
       "3         Capitol Hill    581\n",
       "4           Queen Anne    474"
      ]
     },
     "execution_count": 45,
     "metadata": {},
     "output_type": "execute_result"
    }
   ],
   "source": [
    "df_nbr.head()"
   ]
  },
  {
   "cell_type": "code",
   "execution_count": 47,
   "id": "499bbc43",
   "metadata": {},
   "outputs": [
    {
     "data": {
      "image/png": "[encoded data removed]",
      "text/plain": [
       "<Figure size 1200x400 with 1 Axes>"
      ]
     },
     "metadata": {},
     "output_type": "display_data"
    }
   ],
   "source": [
    "# neighbourhood_group wise count of listings\n",
    "plt.figure(figsize=(12,4))\n",
    "sns.barplot(data=df_nbr, x='neighbourhood_group', y='count', color='brown')\n",
    "plt.title('Neighbourhood Groups and Count')\n",
    "plt.ylabel('Count of Listings')\n",
    "plt.xticks(rotation= 45)\n",
    "plt.show()"
   ]
  },
  {
   "cell_type": "code",
   "execution_count": null,
   "id": "1cd5f091",
   "metadata": {},
   "outputs": [],
   "source": []
  },
  {
   "cell_type": "code",
   "execution_count": null,
   "id": "ed242e2b",
   "metadata": {},
   "outputs": [],
   "source": []
  }
 ],
 "metadata": {
  "kernelspec": {
   "display_name": "Python 3 (ipykernel)",
   "language": "python",
   "name": "python3"
  },
  "language_info": {
   "codemirror_mode": {
    "name": "ipython",
    "version": 3
   },
   "file_extension": ".py",
   "mimetype": "text/x-python",
   "name": "python",
   "nbconvert_exporter": "python",
   "pygments_lexer": "ipython3",
   "version": "3.11.5"
  }
 },
 "nbformat": 4,
 "nbformat_minor": 5
}
